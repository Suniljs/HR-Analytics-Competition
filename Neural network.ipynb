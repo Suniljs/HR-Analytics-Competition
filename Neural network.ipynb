{
 "cells": [
  {
   "cell_type": "markdown",
   "metadata": {},
   "source": [
    "# PyTorch based implementation of Neural Network for HR Analytics Competiton <br>\n",
    "\n",
    "# Preprocessing of Data"
   ]
  },
  {
   "cell_type": "code",
   "execution_count": 61,
   "metadata": {},
   "outputs": [],
   "source": [
    "\n",
    "import os\n",
    "import pandas as pd\n",
    "import numpy as np\n",
    "from sklearn.preprocessing import FunctionTransformer\n",
    "from sklearn.pipeline import Pipeline\n",
    "from sklearn.pipeline import FeatureUnion\n",
    "from sklearn.impute import SimpleImputer\n",
    "from sklearn.linear_model import LogisticRegression\n",
    "from sklearn.model_selection import GridSearchCV\n",
    "from sklearn.model_selection import train_test_split\n",
    "from sklearn.preprocessing import StandardScaler\n",
    "from sklearn.metrics import f1_score\n",
    "from sklearn.metrics import classification_report\n",
    "\n",
    "os.chdir(\"C:/Users/91821/Desktop/AV/HR/root\")\n",
    "\n",
    "df = pd.read_csv(\"train_LZdllcl.csv\")\n",
    "test_df = pd.read_csv(\"test_2umaH9m.csv\")\n",
    "\n",
    "\n",
    "cat_var = [\"department\",\"region\",\"education\",\"gender\",\"recruitment_channel\"]\n",
    "numeric_variables = [\"no_of_trainings\",\"age\",\"previous_year_rating\",\n",
    "                     \"length_of_service\",\"KPIs_met >80%\",\"awards_won?\",\n",
    "                     \"avg_training_score\"]\n",
    "\n",
    "def imp_education(df1):\n",
    "    df2 = df1.copy()\n",
    "    df2.loc[:,\"education\"] = df2.loc[:,\"education\"].fillna(\"None\")\n",
    "    return df2\n",
    "\n",
    "get_numeric_data = FunctionTransformer(lambda x: x[numeric_variables], validate=False)\n",
    "get_cat_data = FunctionTransformer(lambda x: x[cat_var], validate=False)\n",
    "impute_education = FunctionTransformer(imp_education)\n",
    "create_dummies = FunctionTransformer(lambda x:pd.get_dummies(x,drop_first=True))\n",
    "\n",
    "prepro_pipeline = FeatureUnion(\n",
    "    transformer_list = [\n",
    "        ('numeric_features',Pipeline([\n",
    "            ('selector',get_numeric_data),\n",
    "            ('imputer',SimpleImputer(strategy=\"most_frequent\"))\n",
    "            ])),\n",
    "        ('text_features',Pipeline([\n",
    "            ('selector_cat',get_cat_data),\n",
    "            ('imputer_cat',impute_education),\n",
    "            ('get_dummies',create_dummies)\n",
    "            ]))\n",
    "        ])\n",
    "\n",
    "x_train_test = prepro_pipeline.fit_transform(df)\n",
    "y_train_test=df['is_promoted']\n",
    "\n",
    "x_train,x_test,y_train,y_test = train_test_split(x_train_test,y_train_test,test_size=0.2,random_state=1234,stratify=y_train_test)\n",
    "x_sub=prepro_pipeline.fit_transform(test_df)\n"
   ]
  },
  {
   "cell_type": "code",
   "execution_count": 260,
   "metadata": {},
   "outputs": [
    {
     "data": {
      "text/plain": [
       "((43846, 54), (43846,), (10962, 54), (10962,))"
      ]
     },
     "execution_count": 260,
     "metadata": {},
     "output_type": "execute_result"
    }
   ],
   "source": [
    "#checking dimension of train and test data frames\n",
    "x_train.shape,y_train.shape,x_test.shape,y_test.shape"
   ]
  },
  {
   "cell_type": "code",
   "execution_count": 427,
   "metadata": {},
   "outputs": [
    {
     "data": {
      "text/plain": [
       "array([1., 1., 1., 1., 1., 1., 1., 1., 1., 1., 1., 1., 1., 1., 1., 1., 1.,\n",
       "       1., 1., 1., 1., 1., 1., 1., 1., 1., 1., 1., 1., 1., 1., 1., 1., 1.,\n",
       "       1., 1., 1., 1., 1., 1., 1., 1., 1., 1., 1., 1., 1., 1., 1., 1., 1.,\n",
       "       1., 1., 1.])"
      ]
     },
     "execution_count": 427,
     "metadata": {},
     "output_type": "execute_result"
    }
   ],
   "source": []
  },
  {
   "cell_type": "markdown",
   "metadata": {},
   "source": [
    "# Neural Network"
   ]
  },
  {
   "cell_type": "code",
   "execution_count": 269,
   "metadata": {},
   "outputs": [],
   "source": [
    "#importing necessary libraries from \n",
    "import torch\n",
    "import torch.nn as nn\n",
    "import torch.functional as F\n",
    "import torch.optim as optim"
   ]
  },
  {
   "cell_type": "code",
   "execution_count": 270,
   "metadata": {},
   "outputs": [
    {
     "data": {
      "text/plain": [
       "(torch.Size([43846, 54]),\n",
       " torch.Size([43846]),\n",
       " torch.Size([10962, 54]),\n",
       " torch.Size([10962]))"
      ]
     },
     "execution_count": 270,
     "metadata": {},
     "output_type": "execute_result"
    }
   ],
   "source": [
    "\n",
    "#converting numpy nd arrays to tensors\n",
    "input_xtrain=torch.from_numpy(x_train_s)\n",
    "input_ytrain=torch.from_numpy(y_train.to_numpy(dtype=float))\n",
    "input_xtest=torch.from_numpy(x_test_s)\n",
    "input_ytest=torch.from_numpy(y_test.to_numpy(dtype=float))\n",
    "input_xsub=torch.from_numpy(x_sub_s)\n",
    "#printing shapes to check\n",
    "input_xtrain.shape,input_ytrain.shape,input_xtest.shape,input_ytest.shape\n"
   ]
  },
  {
   "cell_type": "markdown",
   "metadata": {},
   "source": [
    "# Neural Network Architecture"
   ]
  },
  {
   "cell_type": "code",
   "execution_count": 424,
   "metadata": {},
   "outputs": [
    {
     "name": "stdout",
     "output_type": "stream",
     "text": [
      "Sequential(\n",
      "  (0): Linear(in_features=54, out_features=100, bias=True)\n",
      "  (1): BatchNorm1d(100, eps=1e-05, momentum=0.1, affine=True, track_running_stats=True)\n",
      "  (2): ReLU(inplace=True)\n",
      "  (3): Dropout(p=0.5, inplace=False)\n",
      "  (4): Linear(in_features=100, out_features=100, bias=True)\n",
      "  (5): BatchNorm1d(100, eps=1e-05, momentum=0.1, affine=True, track_running_stats=True)\n",
      "  (6): ReLU(inplace=True)\n",
      "  (7): Dropout(p=0.4, inplace=False)\n",
      "  (8): Linear(in_features=100, out_features=80, bias=True)\n",
      "  (9): BatchNorm1d(80, eps=1e-05, momentum=0.1, affine=True, track_running_stats=True)\n",
      "  (10): ReLU(inplace=True)\n",
      "  (11): Dropout(p=0.3, inplace=False)\n",
      "  (12): Linear(in_features=80, out_features=50, bias=True)\n",
      "  (13): BatchNorm1d(50, eps=1e-05, momentum=0.1, affine=True, track_running_stats=True)\n",
      "  (14): ReLU(inplace=True)\n",
      "  (15): Dropout(p=0.3, inplace=False)\n",
      "  (16): Linear(in_features=50, out_features=2, bias=True)\n",
      "  (17): LogSoftmax()\n",
      ")\n"
     ]
    }
   ],
   "source": [
    "model=nn.Sequential(\n",
    "                                    nn.Linear(54,100,bias=True),\n",
    "                                    nn.BatchNorm1d(100),\n",
    "                                    nn.ReLU(inplace=True),\n",
    "                                    nn.Dropout(p=0.5),\n",
    "                                    nn.Linear(100,100),\n",
    "                                    nn.BatchNorm1d(100),\n",
    "                                    nn.ReLU(inplace=True),\n",
    "                                    nn.Dropout(p=0.4),\n",
    "                                    nn.Linear(100,80),\n",
    "                                    nn.BatchNorm1d(80),\n",
    "                                    nn.ReLU(inplace=True),\n",
    "                                    nn.Dropout(p=0.3),\n",
    "                                    nn.Linear(80,50),\n",
    "                                    nn.BatchNorm1d(50),\n",
    "                                    nn.ReLU(inplace=True),\n",
    "                                    nn.Dropout(p=0.3),\n",
    "                                    nn.Linear(50,2),\n",
    "                                    nn.LogSoftmax(dim=1))\n",
    "print(model)\n"
   ]
  },
  {
   "cell_type": "markdown",
   "metadata": {},
   "source": [
    "# Neural Network Training"
   ]
  },
  {
   "cell_type": "code",
   "execution_count": 425,
   "metadata": {},
   "outputs": [],
   "source": [
    "# intialize arrays to caputure loss after each epochs\n",
    "test_loss=[]\n",
    "train_loss=[]"
   ]
  },
  {
   "cell_type": "code",
   "execution_count": 447,
   "metadata": {},
   "outputs": [
    {
     "name": "stdout",
     "output_type": "stream",
     "text": [
      "99 0.16191457211971283 0.16523241996765137\n"
     ]
    }
   ],
   "source": [
    "#Adams optimzer\n",
    "optimizer=optim.Adam(model.parameters(),lr=1e-3/3,weight_decay=0.0001)\n",
    "for t in range(1,100):\n",
    "    # Forward pass: compute predicted y by passing x to the model. Module objects\n",
    "    # override the __call__ operator so you can call them like functions. When\n",
    "    # doing so you pass a Tensor of input data to the Module and it produces\n",
    "    # a Tensor of output data.\n",
    "    y_pred = model(input_xtrain.float())\n",
    "\n",
    "    # Compute and print loss. We pass Tensors containing the predicted and true\n",
    "    # values of y, and the loss function returns a Tensor containing the\n",
    "    # loss.\n",
    "    loss = loss_fn(y_pred, input_ytrain.long())\n",
    "    model.eval()\n",
    "    loss_validation=loss_fn(model(input_xtest.float()),input_ytest.long())\n",
    "    model.train()\n",
    "    train_loss.append(loss.item())\n",
    "    test_loss.append(loss_validation.item())\n",
    "    if t % 100 == 99:\n",
    "        model.eval()\n",
    "        loss_validation = loss_fn(model(input_xtest.float()),input_ytest.long())\n",
    "        model.train()\n",
    "        print(t, loss.item(),loss_validation.item())\n",
    "\n",
    "    # Zero the gradients before running the backward pass.\n",
    "    model.zero_grad()\n",
    "\n",
    "    # Backward pass: compute gradient of the loss with respect to all the learnable\n",
    "    # parameters of the model. Internally, the parameters of each Module are stored\n",
    "    # in Tensors with requires_grad=True, so this call will compute gradients for\n",
    "    # all learnable parameters in the model.\n",
    "    loss.backward()\n",
    "\n",
    "    # Update the weights using gradient descent. Each parameter is a Tensor, so\n",
    "    # we can access its gradients like we did before.\n",
    "    optimizer.step()\n",
    "    \n",
    "    \"\"\"\n",
    "    with torch.no_grad():\n",
    "        for param in model.parameters():\n",
    "            param -= learning_rate * param.grad\n",
    "    \"\"\""
   ]
  },
  {
   "cell_type": "code",
   "execution_count": 448,
   "metadata": {
    "scrolled": false
   },
   "outputs": [
    {
     "data": {
      "image/png": "[encoded data removed]",
      "text/plain": [
       "<Figure size 432x288 with 1 Axes>"
      ]
     },
     "metadata": {
      "needs_background": "light"
     },
     "output_type": "display_data"
    }
   ],
   "source": [
    "import matplotlib.pyplot as plt\n",
    "plt.plot(range(len(train_loss)),train_loss)\n",
    "plt.plot(range(len(test_loss)),test_loss)\n",
    "plt.xlabel(\"epochs------>\")\n",
    "plt.ylabel(\"Negative Log Likelihood Loss\")\n",
    "plt.show()"
   ]
  },
  {
   "cell_type": "code",
   "execution_count": 449,
   "metadata": {},
   "outputs": [],
   "source": [
    "#predicting on submission and test datasets \n",
    "#output of the model will be log of probabilities as we have used LogSoftmax function\n",
    "model.eval()\n",
    "y_sub_pred=model(input_xsub.float())\n",
    "y_test_pred=model(input_xtest.float())\n",
    "y_train_pred=model(input_xtrain.float())\n",
    "#covering the log probabilities back to probabalities\n",
    "y_train_pred_np=np.exp(y_train_pred.detach().numpy())\n",
    "y_test_pred_np=np.exp(y_test_pred.detach().numpy())\n",
    "y_sub_pred_np=np.exp(y_sub_pred.detach().numpy())"
   ]
  },
  {
   "cell_type": "code",
   "execution_count": 446,
   "metadata": {},
   "outputs": [],
   "source": []
  },
  {
   "cell_type": "code",
   "execution_count": 450,
   "metadata": {},
   "outputs": [],
   "source": [
    "f1_score_test_list=[]\n",
    "f1_score_train_list=[]\n",
    "prob_cuts=np.arange(0.05,1,0.05)\n",
    "for prob_cut in prob_cuts:\n",
    "    y_train_pred=np.where(y_train_pred_np[:,1]>prob_cut,1,0)\n",
    "    y_test_pred=np.where(y_test_pred_np[:,1]>prob_cut,1,0)\n",
    "    f1_score_train=f1_score(y_train,y_train_pred)\n",
    "    f1_score_test=f1_score(y_test,y_test_pred)\n",
    "    f1_score_train_list.append(f1_score_train)\n",
    "    f1_score_test_list.append(f1_score_test)"
   ]
  },
  {
   "cell_type": "code",
   "execution_count": 441,
   "metadata": {},
   "outputs": [
    {
     "data": {
      "image/png": "[encoded data removed]",
      "text/plain": [
       "<Figure size 432x288 with 1 Axes>"
      ]
     },
     "metadata": {
      "needs_background": "light"
     },
     "output_type": "display_data"
    }
   ],
   "source": [
    "import matplotlib.pyplot as plt\n",
    "plt.plot(prob_cuts,f1_score_train_list,label='Train')\n",
    "plt.plot(prob_cuts,f1_score_test_list,label='Test')\n",
    "plt.legend(loc='upper right')\n",
    "plt.xlabel(\"probability cut\")\n",
    "plt.ylabel(\"f1_score\")\n",
    "plt.show()"
   ]
  },
  {
   "cell_type": "code",
   "execution_count": 454,
   "metadata": {},
   "outputs": [],
   "source": [
    "max(f1_score_test_list),\n",
    "cut=prob_cuts[np.argmax(f1_score_test_list)] "
   ]
  },
  {
   "cell_type": "code",
   "execution_count": 458,
   "metadata": {},
   "outputs": [],
   "source": [
    "submission1=pd.DataFrame(y_sub_pred_np)\n",
    "submission1.columns=['nonevent','event']\n",
    "submission1['ind']=np.where(submission1.event>cut,1,0)\n",
    "submission1.to_csv('submission7_f2.csv')"
   ]
  },
  {
   "cell_type": "code",
   "execution_count": 459,
   "metadata": {},
   "outputs": [],
   "source": [
    "torch.save(model, \"C:/Users/91821/Desktop/AV/HR/root/model1\")\n",
    "model2=torch.load(\"C:/Users/91821/Desktop/AV/HR/root/model1\")"
   ]
  },
  {
   "cell_type": "code",
   "execution_count": null,
   "metadata": {},
   "outputs": [],
   "source": []
  },
  {
   "cell_type": "code",
   "execution_count": 453,
   "metadata": {},
   "outputs": [
    {
     "data": {
      "text/plain": [
       "0.5095638867635807"
      ]
     },
     "execution_count": 453,
     "metadata": {},
     "output_type": "execute_result"
    }
   ],
   "source": [
    "from sklearn.metrics import f1_score\n",
    "y_pred=np.where(y_test_pred_np[:,1]>0.39,1,0)\n",
    "f1_score(y_test, y_pred)"
   ]
  },
  {
   "cell_type": "markdown",
   "metadata": {},
   "source": [
    "## submission1.to_csv('sub1.csv')"
   ]
  },
  {
   "cell_type": "code",
   "execution_count": 255,
   "metadata": {},
   "outputs": [
    {
     "data": {
      "text/plain": [
       "Sequential(\n",
       "  (0): Linear(in_features=54, out_features=100, bias=True)\n",
       "  (1): ReLU(inplace=True)\n",
       "  (2): Linear(in_features=100, out_features=80, bias=True)\n",
       "  (3): ReLU(inplace=True)\n",
       "  (4): Linear(in_features=80, out_features=50, bias=True)\n",
       "  (5): ReLU(inplace=True)\n",
       "  (6): Linear(in_features=50, out_features=50, bias=True)\n",
       "  (7): ReLU(inplace=True)\n",
       "  (8): Linear(in_features=50, out_features=2, bias=True)\n",
       "  (9): LogSoftmax()\n",
       ")"
      ]
     },
     "execution_count": 255,
     "metadata": {},
     "output_type": "execute_result"
    }
   ],
   "source": [
    "model"
   ]
  },
  {
   "cell_type": "code",
   "execution_count": 400,
   "metadata": {},
   "outputs": [
    {
     "data": {
      "text/plain": [
       "Sequential(\n",
       "  (0): Linear(in_features=54, out_features=100, bias=True)\n",
       "  (1): BatchNorm1d(100, eps=1e-05, momentum=0.1, affine=True, track_running_stats=True)\n",
       "  (2): ReLU(inplace=True)\n",
       "  (3): Dropout(p=0.5, inplace=False)\n",
       "  (4): Linear(in_features=100, out_features=80, bias=True)\n",
       "  (5): BatchNorm1d(80, eps=1e-05, momentum=0.1, affine=True, track_running_stats=True)\n",
       "  (6): ReLU(inplace=True)\n",
       "  (7): Dropout(p=0.3, inplace=False)\n",
       "  (8): Linear(in_features=80, out_features=50, bias=True)\n",
       "  (9): BatchNorm1d(50, eps=1e-05, momentum=0.1, affine=True, track_running_stats=True)\n",
       "  (10): ReLU(inplace=True)\n",
       "  (11): Dropout(p=0.3, inplace=False)\n",
       "  (12): Linear(in_features=50, out_features=50, bias=True)\n",
       "  (13): BatchNorm1d(50, eps=1e-05, momentum=0.1, affine=True, track_running_stats=True)\n",
       "  (14): ReLU(inplace=True)\n",
       "  (15): Linear(in_features=50, out_features=2, bias=True)\n",
       "  (16): LogSoftmax()\n",
       ")"
      ]
     },
     "execution_count": 400,
     "metadata": {},
     "output_type": "execute_result"
    }
   ],
   "source": [
    "model"
   ]
  },
  {
   "cell_type": "code",
   "execution_count": null,
   "metadata": {},
   "outputs": [],
   "source": []
  }
 ],
 "metadata": {
  "kernelspec": {
   "display_name": "Python 3",
   "language": "python",
   "name": "python3"
  },
  "language_info": {
   "codemirror_mode": {
    "name": "ipython",
    "version": 3
   },
   "file_extension": ".py",
   "mimetype": "text/x-python",
   "name": "python",
   "nbconvert_exporter": "python",
   "pygments_lexer": "ipython3",
   "version": "3.7.7"
  },
  "varInspector": {
   "cols": {
    "lenName": 16,
    "lenType": 16,
    "lenVar": 40
   },
   "kernels_config": {
    "python": {
     "delete_cmd_postfix": "",
     "delete_cmd_prefix": "del ",
     "library": "var_list.py",
     "varRefreshCmd": "print(var_dic_list())"
    },
    "r": {
     "delete_cmd_postfix": ") ",
     "delete_cmd_prefix": "rm(",
     "library": "var_list.r",
     "varRefreshCmd": "cat(var_dic_list()) "
    }
   },
   "position": {
    "height": "144px",
    "left": "1166px",
    "right": "20px",
    "top": "121px",
    "width": "350px"
   },
   "types_to_exclude": [
    "module",
    "function",
    "builtin_function_or_method",
    "instance",
    "_Feature"
   ],
   "window_display": false
  }
 },
 "nbformat": 4,
 "nbformat_minor": 4
}
